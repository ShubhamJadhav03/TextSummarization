{
 "cells": [
  {
   "cell_type": "code",
   "execution_count": 1,
   "id": "4f12f5ae",
   "metadata": {},
   "outputs": [
    {
     "data": {
      "text/plain": [
       "'c:\\\\Users\\\\j_san\\\\OneDrive\\\\Desktop\\\\AIML\\\\MLOps\\\\Project\\\\textSummarizer\\\\research'"
      ]
     },
     "execution_count": 1,
     "metadata": {},
     "output_type": "execute_result"
    }
   ],
   "source": [
    "import os \n",
    "%pwd"
   ]
  },
  {
   "cell_type": "code",
   "execution_count": 2,
   "id": "95be3cb0",
   "metadata": {},
   "outputs": [
    {
     "data": {
      "text/plain": [
       "'c:\\\\Users\\\\j_san\\\\OneDrive\\\\Desktop\\\\AIML\\\\MLOps\\\\Project\\\\textSummarizer'"
      ]
     },
     "execution_count": 2,
     "metadata": {},
     "output_type": "execute_result"
    }
   ],
   "source": [
    "os.chdir(\"../\")\n",
    "%pwd"
   ]
  },
  {
   "cell_type": "code",
   "execution_count": 3,
   "id": "deb5e853",
   "metadata": {},
   "outputs": [],
   "source": [
    "from dataclasses import dataclass\n",
    "from pathlib import Path\n",
    "\n",
    "@dataclass\n",
    "class ModelTrainerConfig:\n",
    "    root_dir: Path\n",
    "    data_path: Path\n",
    "    model_ckpt: Path\n",
    "    num_train_epochs: int\n",
    "    warmup_steps: int\n",
    "    per_device_train_batch_size: int\n",
    "    weight_decay: float\n",
    "    logging_steps: int\n",
    "    eval_strategy: str\n",
    "    eval_steps: int\n",
    "    save_steps: float\n",
    "    gradient_accumulation_steps: int\n"
   ]
  },
  {
   "cell_type": "code",
   "execution_count": 5,
   "id": "840d06c2",
   "metadata": {},
   "outputs": [],
   "source": [
    "from src.textSummarizer.constants import *\n",
    "from src.textSummarizer.utils.common import read_yaml, create_directories"
   ]
  },
  {
   "cell_type": "code",
   "execution_count": 6,
   "id": "24757c77",
   "metadata": {},
   "outputs": [],
   "source": [
    "class ConfigurationManager:\n",
    "    def __init__(\n",
    "        self,\n",
    "        config_filepath = CONFIG_FILE_PATH,\n",
    "        params_filepath = PARAMS_FILE_PATH):\n",
    "\n",
    "        self.config = read_yaml(config_filepath)\n",
    "        self.params = read_yaml(params_filepath)\n",
    "\n",
    "        create_directories([self.config.artifacts_root])\n",
    "\n",
    "    def get_model_trainer_config(self) -> ModelTrainerConfig:\n",
    "        config=self.config.model_trainer\n",
    "        params=self.params.TrainingArguments\n",
    "\n",
    "        create_directories([config.root_dir])\n",
    "\n",
    "        model_trainer_config=ModelTrainerConfig(\n",
    "            root_dir=config.root_dir,\n",
    "            data_path=config.data_path,\n",
    "            model_ckpt = config.model_ckpt,\n",
    "            num_train_epochs = params.num_train_epochs,\n",
    "            warmup_steps = params.warmup_steps,\n",
    "            per_device_train_batch_size = params.per_device_train_batch_size,\n",
    "            weight_decay = params.weight_decay,\n",
    "            logging_steps = params.logging_steps,\n",
    "            eval_strategy = params.eval_strategy,\n",
    "            eval_steps = params.eval_steps,\n",
    "            save_steps = params.save_steps,\n",
    "            gradient_accumulation_steps = params.gradient_accumulation_steps\n",
    "        )\n",
    "        return model_trainer_config\n",
    "\n"
   ]
  },
  {
   "cell_type": "code",
   "execution_count": 7,
   "id": "02a0f698",
   "metadata": {},
   "outputs": [
    {
     "name": "stderr",
     "output_type": "stream",
     "text": [
      "c:\\Users\\j_san\\OneDrive\\Desktop\\AIML\\MLOps\\Project\\textSummarizer\\venv\\lib\\site-packages\\tqdm\\auto.py:21: TqdmWarning: IProgress not found. Please update jupyter and ipywidgets. See https://ipywidgets.readthedocs.io/en/stable/user_install.html\n",
      "  from .autonotebook import tqdm as notebook_tqdm\n"
     ]
    }
   ],
   "source": [
    "from transformers import AutoModelForSeq2SeqLM, AutoTokenizer\n",
    "from transformers import TrainingArguments, Trainer\n",
    "from transformers import DataCollatorForSeq2Seq\n",
    "import torch\n",
    "from datasets import load_from_disk"
   ]
  },
  {
   "cell_type": "code",
   "execution_count": 8,
   "id": "9d38707d",
   "metadata": {},
   "outputs": [],
   "source": [
    "class ModelTrainer:\n",
    "    def __init__(self, config: ModelTrainerConfig):\n",
    "        self.config = config\n",
    "\n",
    "    def train(self):\n",
    "        device = \"cuda\" if torch.cuda.is_available() else \"cpu\"\n",
    "        tokenizer = AutoTokenizer.from_pretrained(self.config.model_ckpt)\n",
    "        model_pegasus = AutoModelForSeq2SeqLM.from_pretrained(self.config.model_ckpt).to(device)\n",
    "        seq2seq_data_collator = DataCollatorForSeq2Seq(tokenizer, model=model_pegasus)\n",
    "\n",
    "        #loading the data\n",
    "        dataset_samsum_pt = load_from_disk(self.config.data_path)\n",
    "\n",
    "        trainer_args = TrainingArguments(\n",
    "            output_dir=self.config.root_dir, num_train_epochs=1, warmup_steps=500,\n",
    "            per_device_train_batch_size=1, per_device_eval_batch_size=1,\n",
    "            weight_decay=0.01, logging_steps=10,\n",
    "            eval_strategy='steps', eval_steps=500, save_steps=1e6,\n",
    "            gradient_accumulation_steps=16\n",
    "        ) \n",
    "        trainer = Trainer(model=model_pegasus, args=trainer_args,\n",
    "                  tokenizer=tokenizer, data_collator=seq2seq_data_collator,\n",
    "                  train_dataset=dataset_samsum_pt[\"test\"],\n",
    "                  eval_dataset=dataset_samsum_pt[\"validation\"])\n",
    "        \n",
    "        trainer.train()\n",
    "\n",
    "        ## Save model\n",
    "        model_pegasus.save_pretrained(os.path.join(self.config.root_dir,\"pegasus-samsum-model\"))\n",
    "        ## Save tokenizer\n",
    "        tokenizer.save_pretrained(os.path.join(self.config.root_dir,\"tokenizer\"))\n",
    "\n",
    "\n"
   ]
  },
  {
   "cell_type": "code",
   "execution_count": 9,
   "id": "928103a8",
   "metadata": {},
   "outputs": [
    {
     "name": "stdout",
     "output_type": "stream",
     "text": [
      "Requirement already satisfied: transformers in c:\\users\\j_san\\onedrive\\desktop\\aiml\\mlops\\project\\textsummarizer\\venv\\lib\\site-packages (4.56.2)\n",
      "Collecting tokenizers<=0.23.0,>=0.22.0\n",
      "  Using cached tokenizers-0.22.1-cp39-abi3-win_amd64.whl (2.7 MB)\n",
      "Requirement already satisfied: tqdm>=4.27 in c:\\users\\j_san\\onedrive\\desktop\\aiml\\mlops\\project\\textsummarizer\\venv\\lib\\site-packages (from transformers) (4.67.1)\n",
      "Requirement already satisfied: pyyaml>=5.1 in c:\\users\\j_san\\onedrive\\desktop\\aiml\\mlops\\project\\textsummarizer\\venv\\lib\\site-packages (from transformers) (6.0.2)\n",
      "Requirement already satisfied: filelock in c:\\users\\j_san\\onedrive\\desktop\\aiml\\mlops\\project\\textsummarizer\\venv\\lib\\site-packages (from transformers) (3.19.1)\n",
      "Requirement already satisfied: regex!=2019.12.17 in c:\\users\\j_san\\onedrive\\desktop\\aiml\\mlops\\project\\textsummarizer\\venv\\lib\\site-packages (from transformers) (2025.9.18)\n",
      "Requirement already satisfied: safetensors>=0.4.3 in c:\\users\\j_san\\onedrive\\desktop\\aiml\\mlops\\project\\textsummarizer\\venv\\lib\\site-packages (from transformers) (0.6.2)\n",
      "Requirement already satisfied: packaging>=20.0 in c:\\users\\j_san\\onedrive\\desktop\\aiml\\mlops\\project\\textsummarizer\\venv\\lib\\site-packages (from transformers) (25.0)\n",
      "Requirement already satisfied: numpy>=1.17 in c:\\users\\j_san\\onedrive\\desktop\\aiml\\mlops\\project\\textsummarizer\\venv\\lib\\site-packages (from transformers) (2.2.6)\n",
      "Requirement already satisfied: requests in c:\\users\\j_san\\onedrive\\desktop\\aiml\\mlops\\project\\textsummarizer\\venv\\lib\\site-packages (from transformers) (2.32.5)\n",
      "Requirement already satisfied: huggingface-hub<1.0,>=0.34.0 in c:\\users\\j_san\\onedrive\\desktop\\aiml\\mlops\\project\\textsummarizer\\venv\\lib\\site-packages (from transformers) (0.35.1)\n",
      "Requirement already satisfied: typing-extensions>=3.7.4.3 in c:\\users\\j_san\\onedrive\\desktop\\aiml\\mlops\\project\\textsummarizer\\venv\\lib\\site-packages (from huggingface-hub<1.0,>=0.34.0->transformers) (4.15.0)\n",
      "Requirement already satisfied: fsspec>=2023.5.0 in c:\\users\\j_san\\onedrive\\desktop\\aiml\\mlops\\project\\textsummarizer\\venv\\lib\\site-packages (from huggingface-hub<1.0,>=0.34.0->transformers) (2025.9.0)\n",
      "Requirement already satisfied: colorama in c:\\users\\j_san\\onedrive\\desktop\\aiml\\mlops\\project\\textsummarizer\\venv\\lib\\site-packages (from tqdm>=4.27->transformers) (0.4.6)\n",
      "Requirement already satisfied: charset_normalizer<4,>=2 in c:\\users\\j_san\\onedrive\\desktop\\aiml\\mlops\\project\\textsummarizer\\venv\\lib\\site-packages (from requests->transformers) (3.4.3)\n",
      "Requirement already satisfied: idna<4,>=2.5 in c:\\users\\j_san\\onedrive\\desktop\\aiml\\mlops\\project\\textsummarizer\\venv\\lib\\site-packages (from requests->transformers) (3.10)\n",
      "Requirement already satisfied: urllib3<3,>=1.21.1 in c:\\users\\j_san\\onedrive\\desktop\\aiml\\mlops\\project\\textsummarizer\\venv\\lib\\site-packages (from requests->transformers) (2.5.0)\n",
      "Requirement already satisfied: certifi>=2017.4.17 in c:\\users\\j_san\\onedrive\\desktop\\aiml\\mlops\\project\\textsummarizer\\venv\\lib\\site-packages (from requests->transformers) (2025.8.3)\n",
      "Installing collected packages: tokenizers\n",
      "  Attempting uninstall: tokenizers\n",
      "    Found existing installation: tokenizers 0.13.3\n",
      "    Uninstalling tokenizers-0.13.3:\n",
      "      Successfully uninstalled tokenizers-0.13.3\n",
      "Successfully installed tokenizers-0.22.1\n",
      "Note: you may need to restart the kernel to use updated packages.\n"
     ]
    },
    {
     "name": "stderr",
     "output_type": "stream",
     "text": [
      "\n",
      "[notice] A new release of pip is available: 23.0.1 -> 25.2\n",
      "[notice] To update, run: python.exe -m pip install --upgrade pip\n"
     ]
    }
   ],
   "source": [
    "# Upgrade transformers to ensure compatibility with evaluation_strategy argument\n",
    "%pip install --upgrade transformers\n",
    "\n"
   ]
  },
  {
   "cell_type": "code",
   "execution_count": 9,
   "id": "38c29bf4",
   "metadata": {},
   "outputs": [
    {
     "name": "stdout",
     "output_type": "stream",
     "text": [
      "[2025-09-28 21:22:35,635: INFO: common: yaml file: params.yaml loaded successfully]\n",
      "Current eval_strategy value: steps\n"
     ]
    }
   ],
   "source": [
    "# Restart kernel and reload configuration to ensure latest params.yaml is loaded\n",
    "import importlib\n",
    "import sys\n",
    "\n",
    "# Clear any cached modules\n",
    "if 'src.textSummarizer.utils.common' in sys.modules:\n",
    "    importlib.reload(sys.modules['src.textSummarizer.utils.common'])\n",
    "\n",
    "# Re-import and test the configuration\n",
    "from src.textSummarizer.constants import *\n",
    "from src.textSummarizer.utils.common import read_yaml, create_directories\n",
    "\n",
    "# Test reading the params file directly\n",
    "test_params = read_yaml(PARAMS_FILE_PATH)\n",
    "print(\"Current eval_strategy value:\", test_params.TrainingArguments.eval_strategy)\n"
   ]
  },
  {
   "cell_type": "code",
   "execution_count": 10,
   "id": "9bf3cbde",
   "metadata": {},
   "outputs": [
    {
     "name": "stdout",
     "output_type": "stream",
     "text": [
      "[2025-09-28 21:22:49,706: INFO: common: yaml file: config\\config.yaml loaded successfully]\n",
      "[2025-09-28 21:22:49,709: INFO: common: yaml file: params.yaml loaded successfully]\n",
      "[2025-09-28 21:22:49,710: INFO: common: created directory at: artifacts]\n",
      "[2025-09-28 21:22:49,712: INFO: common: created directory at: artifacts/model_trainer]\n",
      "Model trainer config created successfully!\n",
      "Eval strategy: steps\n",
      "Eval steps: 500\n",
      "Root dir: artifacts/model_trainer\n"
     ]
    }
   ],
   "source": [
    "# Test the configuration manager with the updated params\n",
    "config = ConfigurationManager()\n",
    "model_trainer_config = config.get_model_trainer_config()\n",
    "print(\"Model trainer config created successfully!\")\n",
    "print(f\"Eval strategy: {model_trainer_config.eval_strategy}\")\n",
    "print(f\"Eval steps: {model_trainer_config.eval_steps}\")\n",
    "print(f\"Root dir: {model_trainer_config.root_dir}\")\n"
   ]
  },
  {
   "cell_type": "code",
   "execution_count": 11,
   "id": "b7def21b",
   "metadata": {},
   "outputs": [
    {
     "name": "stdout",
     "output_type": "stream",
     "text": [
      "[2025-09-28 21:23:32,140: INFO: common: yaml file: config\\config.yaml loaded successfully]\n",
      "[2025-09-28 21:23:32,143: INFO: common: yaml file: params.yaml loaded successfully]\n",
      "[2025-09-28 21:23:32,144: INFO: common: created directory at: artifacts]\n",
      "[2025-09-28 21:23:32,145: INFO: common: created directory at: artifacts/model_trainer]\n"
     ]
    },
    {
     "name": "stderr",
     "output_type": "stream",
     "text": [
      "Some weights of PegasusForConditionalGeneration were not initialized from the model checkpoint at google/pegasus-cnn_dailymail and are newly initialized: ['model.decoder.embed_positions.weight', 'model.encoder.embed_positions.weight']\n",
      "You should probably TRAIN this model on a down-stream task to be able to use it for predictions and inference.\n",
      "C:\\Users\\j_san\\AppData\\Local\\Temp\\ipykernel_19588\\2273714221.py:21: FutureWarning: `tokenizer` is deprecated and will be removed in version 5.0.0 for `Trainer.__init__`. Use `processing_class` instead.\n",
      "  trainer = Trainer(model=model_pegasus, args=trainer_args,\n",
      "The tokenizer has new PAD/BOS/EOS tokens that differ from the model config and generation config. The model config and generation config were aligned accordingly, being updated with the tokenizer's values. Updated tokens: {'bos_token_id': None}.\n",
      "c:\\Users\\j_san\\OneDrive\\Desktop\\AIML\\MLOps\\Project\\textSummarizer\\venv\\lib\\site-packages\\torch\\utils\\data\\dataloader.py:666: UserWarning: 'pin_memory' argument is set as true but no accelerator is found, then device pinned memory won't be used.\n",
      "  warnings.warn(warn_msg)\n"
     ]
    },
    {
     "data": {
      "text/html": [
       "\n",
       "    <div>\n",
       "      \n",
       "      <progress value='52' max='52' style='width:300px; height:20px; vertical-align: middle;'></progress>\n",
       "      [52/52 52:10, Epoch 1/1]\n",
       "    </div>\n",
       "    <table border=\"1\" class=\"dataframe\">\n",
       "  <thead>\n",
       " <tr style=\"text-align: left;\">\n",
       "      <th>Step</th>\n",
       "      <th>Training Loss</th>\n",
       "      <th>Validation Loss</th>\n",
       "    </tr>\n",
       "  </thead>\n",
       "  <tbody>\n",
       "  </tbody>\n",
       "</table><p>"
      ],
      "text/plain": [
       "<IPython.core.display.HTML object>"
      ]
     },
     "metadata": {},
     "output_type": "display_data"
    },
    {
     "name": "stderr",
     "output_type": "stream",
     "text": [
      "c:\\Users\\j_san\\OneDrive\\Desktop\\AIML\\MLOps\\Project\\textSummarizer\\venv\\lib\\site-packages\\transformers\\modeling_utils.py:4037: UserWarning: Moving the following attributes in the config to the generation config: {'max_length': 128, 'min_length': 32, 'num_beams': 8, 'length_penalty': 0.8}. You are seeing this warning because you've set generation parameters in the model config, as opposed to in the generation config.\n",
      "  warnings.warn(\n"
     ]
    }
   ],
   "source": [
    "config = ConfigurationManager()\n",
    "model_trainer_config = config.get_model_trainer_config()\n",
    "model_trainer = ModelTrainer(config=model_trainer_config)\n",
    "model_trainer.train()"
   ]
  },
  {
   "cell_type": "code",
   "execution_count": null,
   "id": "c77c8994",
   "metadata": {},
   "outputs": [],
   "source": []
  }
 ],
 "metadata": {
  "kernelspec": {
   "display_name": "venv",
   "language": "python",
   "name": "python3"
  },
  "language_info": {
   "codemirror_mode": {
    "name": "ipython",
    "version": 3
   },
   "file_extension": ".py",
   "mimetype": "text/x-python",
   "name": "python",
   "nbconvert_exporter": "python",
   "pygments_lexer": "ipython3",
   "version": "3.10.11"
  }
 },
 "nbformat": 4,
 "nbformat_minor": 5
}
